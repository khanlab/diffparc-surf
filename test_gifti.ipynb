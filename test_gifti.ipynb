{
 "cells": [
  {
   "cell_type": "code",
   "execution_count": 117,
   "id": "f2942a39-433b-458b-bafc-cd7a28be4784",
   "metadata": {},
   "outputs": [],
   "source": [
    "import nibabel as nib\n",
    "import numpy as np\n",
    "surf = nib.load('/localscratch/hippunfold/hippunfold/resources/unfold_template_hipp/tpl-avg_space-unfold_den-0p5mm_midthickness.surf.gii')\n"
   ]
  },
  {
   "cell_type": "code",
   "execution_count": 2,
   "id": "780c123c-8c28-4277-931b-ad458b3d8fb9",
   "metadata": {},
   "outputs": [
    {
     "data": {
      "text/plain": [
       "<nibabel.gifti.gifti.GiftiImage at 0x7f0fb0072c10>"
      ]
     },
     "execution_count": 2,
     "metadata": {},
     "output_type": "execute_result"
    }
   ],
   "source": [
    "surf"
   ]
  },
  {
   "cell_type": "code",
   "execution_count": 6,
   "id": "61459d08-90eb-414d-9ffe-e2b5945c680b",
   "metadata": {},
   "outputs": [
    {
     "name": "stdout",
     "output_type": "stream",
     "text": [
      "Intent:  NIFTI_INTENT_TRIANGLE\n",
      "DataType:  NIFTI_TYPE_INT32\n",
      "ArrayIndexingOrder:  ColumnMajorOrder\n",
      "Dimensionality:  2\n",
      "Dimensions:  [14266, 3]\n",
      "Encoding:  GZipBase64Binary\n",
      "Endian:  LittleEndian\n",
      "ExternalFileName:  \n",
      "ExternalFileOffset:  0\n",
      "----\n",
      "Coordinate System:\n",
      "Dataspace:  NIFTI_XFORM_UNKNOWN\n",
      "XFormSpace:  NIFTI_XFORM_UNKNOWN\n",
      "Affine Transformation Matrix: \n",
      " [[1. 0. 0. 0.]\n",
      " [0. 1. 0. 0.]\n",
      " [0. 0. 1. 0.]\n",
      " [0. 0. 0. 1.]]\n",
      "None\n"
     ]
    }
   ],
   "source": [
    "surf.darrays[0].print_summary()"
   ]
  },
  {
   "cell_type": "code",
   "execution_count": 64,
   "id": "91e44129-4dcc-4cb4-b30e-7d89e0a44085",
   "metadata": {},
   "outputs": [
    {
     "name": "stdout",
     "output_type": "stream",
     "text": [
      "Intent:  NIFTI_INTENT_POINTSET\n",
      "DataType:  NIFTI_TYPE_FLOAT32\n",
      "ArrayIndexingOrder:  ColumnMajorOrder\n",
      "Dimensionality:  2\n",
      "Dimensions:  [7262, 3]\n",
      "Encoding:  GZipBase64Binary\n",
      "Endian:  LittleEndian\n",
      "ExternalFileName:  \n",
      "ExternalFileOffset:  0\n",
      "----\n",
      "Coordinate System:\n",
      "Dataspace:  NIFTI_XFORM_UNKNOWN\n",
      "XFormSpace:  NIFTI_XFORM_UNKNOWN\n",
      "Affine Transformation Matrix: \n",
      " [1. 0. 0. 0. 0. 1. 0. 0. 0. 0. 1. 0. 0. 0. 0. 1.]\n",
      "None\n"
     ]
    }
   ],
   "source": [
    "surf.darrays[1].print_summary()"
   ]
  },
  {
   "cell_type": "code",
   "execution_count": 95,
   "id": "2bf0826d-8fc2-405f-b85d-d1732228b3a7",
   "metadata": {},
   "outputs": [
    {
     "data": {
      "text/plain": [
       "array([[ 242,  145,  240],\n",
       "       [ 305,  242,  240],\n",
       "       [ 358,    4,   29],\n",
       "       ...,\n",
       "       [4491, 4490, 4474],\n",
       "       [4473, 4490, 4472],\n",
       "       [4490, 4489, 4472]], dtype=int32)"
      ]
     },
     "execution_count": 95,
     "metadata": {},
     "output_type": "execute_result"
    }
   ],
   "source": [
    "triangles = surf.darrays[0].data\n",
    "triangles"
   ]
  },
  {
   "cell_type": "code",
   "execution_count": 4,
   "id": "1d1ef236-94bf-4ebf-8ade-75411cb72947",
   "metadata": {},
   "outputs": [],
   "source": [
    "striatum_file = 'diffparc/resources/tpl-MNI152NLin2009cAsym/CIT168_prob/striatum_prob.nii.gz'\n",
    "\n",
    "striatum_nib = nib.load(striatum_file)\n"
   ]
  },
  {
   "cell_type": "code",
   "execution_count": 118,
   "id": "1d7673bc-d72a-49b8-a4d9-258ca93a2c61",
   "metadata": {},
   "outputs": [
    {
     "name": "stdout",
     "output_type": "stream",
     "text": [
      "UniformGrid (0x7f2662be0640)\n",
      "  N Cells:\t8404992\n",
      "  N Points:\t8530021\n",
      "  X Bounds:\t0.000e+00, 1.920e+02\n",
      "  Y Bounds:\t0.000e+00, 2.280e+02\n",
      "  Z Bounds:\t0.000e+00, 1.920e+02\n",
      "  Dimensions:\t193, 229, 193\n",
      "  Spacing:\t1.000e+00, 1.000e+00, 1.000e+00\n",
      "  N Arrays:\t1\n",
      "\n",
      "PolyData (0x7f2662be05e0)\n",
      "  N Cells:\t32448\n",
      "  N Points:\t16236\n",
      "  X Bounds:\t5.972e+01, 1.314e+02\n",
      "  Y Bounds:\t9.375e+01, 1.580e+02\n",
      "  Z Bounds:\t6.234e+01, 1.050e+02\n",
      "  N Arrays:\t1\n",
      "\n"
     ]
    }
   ],
   "source": [
    "import pyvista as pv\n",
    "from vtk import vtkNIFTIImageReader\n",
    "\n",
    "\n",
    "class NIFTIReader(pv.BaseReader):\n",
    "    _class_reader = vtkNIFTIImageReader\n",
    "\n",
    "\n",
    "reader = NIFTIReader(striatum_file)\n",
    "vol = reader.read()\n",
    "print(vol)\n",
    "surface = vol.contour([0.5])\n",
    "print(surface)\n",
    "#surface.save(snakemake.output.vtk, binary=False)\n"
   ]
  },
  {
   "cell_type": "code",
   "execution_count": 119,
   "id": "aaa0705f-246a-423f-8d4a-247ec7c791c1",
   "metadata": {},
   "outputs": [
    {
     "data": {
      "text/plain": [
       "array([[ 81.      , 138.      ,  62.9661  ],\n",
       "       [ 82.      , 138.      ,  62.712887],\n",
       "       [ 83.      , 138.      ,  62.806396],\n",
       "       ...,\n",
       "       [114.255646, 130.      , 104.      ],\n",
       "       [114.      , 130.72427 , 104.      ],\n",
       "       [114.      , 130.      , 104.23731 ]], dtype=float32)"
      ]
     },
     "execution_count": 119,
     "metadata": {},
     "output_type": "execute_result"
    }
   ],
   "source": [
    "new_points = surface.points\n",
    "np.array(new_points)"
   ]
  },
  {
   "cell_type": "code",
   "execution_count": 120,
   "id": "7fd4b418-1894-408d-aa0e-288e24da3e2a",
   "metadata": {},
   "outputs": [
    {
     "data": {
      "text/plain": [
       "(32448, 4)"
      ]
     },
     "execution_count": 120,
     "metadata": {},
     "output_type": "execute_result"
    }
   ],
   "source": [
    "new_faces = surface.faces\n",
    "new_faces = new_faces.reshape((int(new_faces.shape[0]/4),4))\n",
    "new_faces.shape\n"
   ]
  },
  {
   "cell_type": "code",
   "execution_count": 121,
   "id": "a1f4cb6f-80f0-4250-9d22-a5f04185c174",
   "metadata": {},
   "outputs": [
    {
     "data": {
      "text/plain": [
       "array([[    0,    26,    33],\n",
       "       [    0,     1,    27],\n",
       "       [   26,     0,    27],\n",
       "       ...,\n",
       "       [16229, 16230, 16231],\n",
       "       [16232, 16235, 16234],\n",
       "       [16233, 16234, 16235]])"
      ]
     },
     "execution_count": 121,
     "metadata": {},
     "output_type": "execute_result"
    }
   ],
   "source": [
    "new_faces = new_faces[:,1:4]\n",
    "new_faces"
   ]
  },
  {
   "cell_type": "code",
   "execution_count": 122,
   "id": "86d5f544-e664-433d-bd9f-0d857ebcafba",
   "metadata": {},
   "outputs": [],
   "source": [
    "new_gii = nib.GiftiImage()"
   ]
  },
  {
   "cell_type": "code",
   "execution_count": 123,
   "id": "9b96a548-59d4-447b-bb0a-27e0a2073a5b",
   "metadata": {},
   "outputs": [],
   "source": [
    "new_tri_darray = nib.gifti.GiftiDataArray(data=new_faces, \n",
    "                         intent='NIFTI_INTENT_TRIANGLE',\n",
    "                         datatype='NIFTI_TYPE_INT32')\n",
    "                         "
   ]
  },
  {
   "cell_type": "code",
   "execution_count": 124,
   "id": "2537ef01-dc19-426c-aa25-2b98e9e9b1d6",
   "metadata": {},
   "outputs": [
    {
     "name": "stdout",
     "output_type": "stream",
     "text": [
      "Intent:  NIFTI_INTENT_TRIANGLE\n",
      "DataType:  NIFTI_TYPE_INT32\n",
      "ArrayIndexingOrder:  RowMajorOrder\n",
      "Dimensionality:  2\n",
      "Dimensions:  [32448, 3]\n",
      "Encoding:  GZipBase64Binary\n",
      "Endian:  LittleEndian\n",
      "ExternalFileName:  \n",
      "ExternalFileOffset:  0\n",
      "----\n",
      "Coordinate System:\n",
      "Dataspace:  NIFTI_XFORM_UNKNOWN\n",
      "XFormSpace:  NIFTI_XFORM_UNKNOWN\n",
      "Affine Transformation Matrix: \n",
      " [[1. 0. 0. 0.]\n",
      " [0. 1. 0. 0.]\n",
      " [0. 0. 1. 0.]\n",
      " [0. 0. 0. 1.]]\n",
      "None\n"
     ]
    }
   ],
   "source": [
    "new_tri_darray.print_summary()"
   ]
  },
  {
   "cell_type": "code",
   "execution_count": 125,
   "id": "6fbc9e50-9a60-4022-a258-103409473919",
   "metadata": {},
   "outputs": [],
   "source": [
    "new_points_darray = nib.gifti.GiftiDataArray(data=new_points,\n",
    "                         intent='NIFTI_INTENT_POINTSET',\n",
    "                         datatype='NIFTI_TYPE_FLOAT32')"
   ]
  },
  {
   "cell_type": "code",
   "execution_count": 127,
   "id": "c5d0a419-42d2-4118-bdc4-0f7bcd2b8dc1",
   "metadata": {},
   "outputs": [
    {
     "name": "stdout",
     "output_type": "stream",
     "text": [
      "Intent:  NIFTI_INTENT_POINTSET\n",
      "DataType:  NIFTI_TYPE_FLOAT32\n",
      "ArrayIndexingOrder:  RowMajorOrder\n",
      "Dimensionality:  2\n",
      "Dimensions:  [16236, 3]\n",
      "Encoding:  GZipBase64Binary\n",
      "Endian:  LittleEndian\n",
      "ExternalFileName:  \n",
      "ExternalFileOffset:  0\n",
      "----\n",
      "Coordinate System:\n",
      "Dataspace:  NIFTI_XFORM_UNKNOWN\n",
      "XFormSpace:  NIFTI_XFORM_UNKNOWN\n",
      "Affine Transformation Matrix: \n",
      " [[1. 0. 0. 0.]\n",
      " [0. 1. 0. 0.]\n",
      " [0. 0. 1. 0.]\n",
      " [0. 0. 0. 1.]]\n",
      "None\n"
     ]
    }
   ],
   "source": [
    "new_points_darray.print_summary()"
   ]
  },
  {
   "cell_type": "code",
   "execution_count": 128,
   "id": "03606471-ac39-465d-b380-e3b70d7a019f",
   "metadata": {},
   "outputs": [],
   "source": [
    "new_gifti = nib.GiftiImage()\n",
    "new_gifti.add_gifti_data_array(new_points_darray)\n",
    "new_gifti.add_gifti_data_array(new_tri_darray)"
   ]
  },
  {
   "cell_type": "code",
   "execution_count": 129,
   "id": "9b36fa4c-5f87-4e45-a366-0807a5a30f61",
   "metadata": {},
   "outputs": [],
   "source": [
    "new_gifti.to_filename('test_striatum.surf.gii')"
   ]
  },
  {
   "cell_type": "code",
   "execution_count": null,
   "id": "8803425a-6ecc-4b78-ad9d-2bc7f699629a",
   "metadata": {},
   "outputs": [],
   "source": []
  }
 ],
 "metadata": {
  "kernelspec": {
   "display_name": "Python 3 (ipykernel)",
   "language": "python",
   "name": "python3"
  },
  "language_info": {
   "codemirror_mode": {
    "name": "ipython",
    "version": 3
   },
   "file_extension": ".py",
   "mimetype": "text/x-python",
   "name": "python",
   "nbconvert_exporter": "python",
   "pygments_lexer": "ipython3",
   "version": "3.8.10"
  }
 },
 "nbformat": 4,
 "nbformat_minor": 5
}
